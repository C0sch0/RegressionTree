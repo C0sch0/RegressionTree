{
 "cells": [
  {
   "cell_type": "markdown",
   "metadata": {
    "collapsed": true
   },
   "source": [
    "# Tarea 2 - Árbol de decisión\n",
    "\n",
    "Un árbol de decisión es un modelo de predicción que tiene aplicaciones en distintas areas.\n",
    "En general, los árboles son construidos con un enfoque algortimico que identifica la mejor forma de subdividir nuestro dataset basado en distintas condiciones.\n",
    "\n",
    "Es una de las tecnicas más usadas y practicas de aprendizaje supervisado.\n",
    "\n",
    "Los árboles de decisión son un método de aprendizaje supervisado no parametrico utilizado en tareas de clasificación y regresión. Un árbol de clasificación retorna categorías/clases mientras que un árbol de regresión corresponde a predicciones en intervalos reales continuos.\n",
    "\n",
    "Las decisiones usualmente se reflejan en forma de if-then-else.\n",
    "Mientras más profundo sea el árbol, más complejas serán las reglas y el modelo será \"más fit\"\n",
    "\n",
    "\n",
    "\n",
    "Terminología:\n",
    "\n",
    "* Instances: Refer to the vector of features or attributes that define the input space\n",
    "\n",
    "* Attribute: A quantity describing an instance\n",
    "\n",
    "* Concept: The function that maps input to output\n",
    "\n",
    "* Target Concept: The function that we are trying to find, i.e., the actual answer\n",
    "\n",
    "* Hypothesis Class: Set of all the possible functions\n",
    "\n",
    "* Sample: A set of inputs paired with a label, which is the correct output (also known as the Training Set)\n",
    "\n",
    "* Candidate Concept: A concept which we think is the target concept\n",
    "\n",
    "* Testing Set: Similar to the training set and is used to test the candidate concept and determine its performance\n"
   ]
  },
  {
   "cell_type": "markdown",
   "metadata": {
    "collapsed": true
   },
   "source": [
    "Tenemos la base de datos llamada FATS_Gaia.csv (weird name but ok) la cual tiene información astronomica. Que data astronomica ? Buscamos y encontramos su documentación\n",
    "\n",
    "http://gea.esac.esa.int/archive/documentation/GDR2/index.html"
   ]
  },
  {
   "cell_type": "markdown",
   "metadata": {
    "collapsed": true
   },
   "source": [
    " "
   ]
  },
  {
   "cell_type": "code",
   "execution_count": 2,
   "metadata": {
    "collapsed": true
   },
   "outputs": [],
   "source": [
    "import pandas as pd"
   ]
  },
  {
   "cell_type": "code",
   "execution_count": 3,
   "metadata": {
    "collapsed": true
   },
   "outputs": [],
   "source": [
    "# dataset.head() shows all columns,not truncate data to preview\n",
    "pd.set_option('display.max_columns', 56) "
   ]
  },
  {
   "cell_type": "code",
   "execution_count": 4,
   "metadata": {},
   "outputs": [
    {
     "data": {
      "text/html": [
       "<div>\n",
       "<style>\n",
       "    .dataframe thead tr:only-child th {\n",
       "        text-align: right;\n",
       "    }\n",
       "\n",
       "    .dataframe thead th {\n",
       "        text-align: left;\n",
       "    }\n",
       "\n",
       "    .dataframe tbody tr th {\n",
       "        vertical-align: top;\n",
       "    }\n",
       "</style>\n",
       "<table border=\"1\" class=\"dataframe\">\n",
       "  <thead>\n",
       "    <tr style=\"text-align: right;\">\n",
       "      <th></th>\n",
       "      <th>Amplitude</th>\n",
       "      <th>AndersonDarling</th>\n",
       "      <th>Autocor_length</th>\n",
       "      <th>Class</th>\n",
       "      <th>Con</th>\n",
       "      <th>Eta_e</th>\n",
       "      <th>FluxPercentileRatioMid20</th>\n",
       "      <th>FluxPercentileRatioMid35</th>\n",
       "      <th>FluxPercentileRatioMid50</th>\n",
       "      <th>FluxPercentileRatioMid65</th>\n",
       "      <th>FluxPercentileRatioMid80</th>\n",
       "      <th>Freq1_harmonics_amplitude_0</th>\n",
       "      <th>Freq1_harmonics_amplitude_1</th>\n",
       "      <th>Freq1_harmonics_amplitude_2</th>\n",
       "      <th>Freq1_harmonics_amplitude_3</th>\n",
       "      <th>Freq1_harmonics_rel_phase_0</th>\n",
       "      <th>Freq1_harmonics_rel_phase_1</th>\n",
       "      <th>Freq1_harmonics_rel_phase_2</th>\n",
       "      <th>Freq1_harmonics_rel_phase_3</th>\n",
       "      <th>Freq2_harmonics_amplitude_0</th>\n",
       "      <th>Freq2_harmonics_amplitude_1</th>\n",
       "      <th>Freq2_harmonics_amplitude_2</th>\n",
       "      <th>Freq2_harmonics_amplitude_3</th>\n",
       "      <th>Freq2_harmonics_rel_phase_0</th>\n",
       "      <th>Freq2_harmonics_rel_phase_1</th>\n",
       "      <th>Freq2_harmonics_rel_phase_2</th>\n",
       "      <th>Freq2_harmonics_rel_phase_3</th>\n",
       "      <th>Freq3_harmonics_amplitude_0</th>\n",
       "      <th>Freq3_harmonics_amplitude_1</th>\n",
       "      <th>Freq3_harmonics_amplitude_2</th>\n",
       "      <th>Freq3_harmonics_amplitude_3</th>\n",
       "      <th>Freq3_harmonics_rel_phase_0</th>\n",
       "      <th>Freq3_harmonics_rel_phase_1</th>\n",
       "      <th>Freq3_harmonics_rel_phase_2</th>\n",
       "      <th>Freq3_harmonics_rel_phase_3</th>\n",
       "      <th>ID</th>\n",
       "      <th>LinearTrend</th>\n",
       "      <th>MaxSlope</th>\n",
       "      <th>Mean</th>\n",
       "      <th>Meanvariance</th>\n",
       "      <th>MedianAbsDev</th>\n",
       "      <th>MedianBRP</th>\n",
       "      <th>N</th>\n",
       "      <th>PairSlopeTrend</th>\n",
       "      <th>PercentAmplitude</th>\n",
       "      <th>PercentDifferenceFluxPercentile</th>\n",
       "      <th>PeriodLS</th>\n",
       "      <th>Period_fit</th>\n",
       "      <th>Psi_CS</th>\n",
       "      <th>Psi_eta</th>\n",
       "      <th>Q31</th>\n",
       "      <th>Rcs</th>\n",
       "      <th>Skew</th>\n",
       "      <th>SlottedA_length</th>\n",
       "      <th>SmallKurtosis</th>\n",
       "      <th>Std</th>\n",
       "    </tr>\n",
       "  </thead>\n",
       "  <tbody>\n",
       "    <tr>\n",
       "      <th>0</th>\n",
       "      <td>1.416432</td>\n",
       "      <td>0.949482</td>\n",
       "      <td>3.0</td>\n",
       "      <td>MIRA_SR</td>\n",
       "      <td>0.000000</td>\n",
       "      <td>5.442293</td>\n",
       "      <td>0.243054</td>\n",
       "      <td>0.462373</td>\n",
       "      <td>0.653511</td>\n",
       "      <td>0.761790</td>\n",
       "      <td>0.924793</td>\n",
       "      <td>1.328054</td>\n",
       "      <td>0.227566</td>\n",
       "      <td>0.127800</td>\n",
       "      <td>0.149937</td>\n",
       "      <td>0.0</td>\n",
       "      <td>-0.671567</td>\n",
       "      <td>-0.500114</td>\n",
       "      <td>-0.461471</td>\n",
       "      <td>0.209716</td>\n",
       "      <td>0.155465</td>\n",
       "      <td>0.058840</td>\n",
       "      <td>0.069106</td>\n",
       "      <td>0.0</td>\n",
       "      <td>1.670704</td>\n",
       "      <td>0.463136</td>\n",
       "      <td>-0.527479</td>\n",
       "      <td>0.162085</td>\n",
       "      <td>0.070223</td>\n",
       "      <td>0.054550</td>\n",
       "      <td>0.114369</td>\n",
       "      <td>0.0</td>\n",
       "      <td>-1.198392</td>\n",
       "      <td>-0.231313</td>\n",
       "      <td>0.531941</td>\n",
       "      <td>2128919424960482176</td>\n",
       "      <td>-0.002348</td>\n",
       "      <td>0.292530</td>\n",
       "      <td>12.293055</td>\n",
       "      <td>0.075789</td>\n",
       "      <td>0.893634</td>\n",
       "      <td>0.160000</td>\n",
       "      <td>25</td>\n",
       "      <td>0.000000</td>\n",
       "      <td>0.126656</td>\n",
       "      <td>0.216018</td>\n",
       "      <td>268.331543</td>\n",
       "      <td>0.025528</td>\n",
       "      <td>0.304804</td>\n",
       "      <td>0.310355</td>\n",
       "      <td>1.784879</td>\n",
       "      <td>0.304804</td>\n",
       "      <td>0.011895</td>\n",
       "      <td>19.899170</td>\n",
       "      <td>-1.266215</td>\n",
       "      <td>0.931676</td>\n",
       "    </tr>\n",
       "    <tr>\n",
       "      <th>1</th>\n",
       "      <td>0.443386</td>\n",
       "      <td>1.000000</td>\n",
       "      <td>1.0</td>\n",
       "      <td>RRAB</td>\n",
       "      <td>0.000000</td>\n",
       "      <td>12042.752633</td>\n",
       "      <td>0.162446</td>\n",
       "      <td>0.231268</td>\n",
       "      <td>0.517775</td>\n",
       "      <td>0.720122</td>\n",
       "      <td>0.836798</td>\n",
       "      <td>0.334641</td>\n",
       "      <td>0.191432</td>\n",
       "      <td>0.083991</td>\n",
       "      <td>0.102430</td>\n",
       "      <td>0.0</td>\n",
       "      <td>-2.404705</td>\n",
       "      <td>-2.441595</td>\n",
       "      <td>-1.849793</td>\n",
       "      <td>0.100176</td>\n",
       "      <td>0.009931</td>\n",
       "      <td>0.039059</td>\n",
       "      <td>0.008672</td>\n",
       "      <td>0.0</td>\n",
       "      <td>0.315867</td>\n",
       "      <td>-0.238308</td>\n",
       "      <td>-1.779410</td>\n",
       "      <td>0.073547</td>\n",
       "      <td>0.038331</td>\n",
       "      <td>0.048823</td>\n",
       "      <td>0.066235</td>\n",
       "      <td>0.0</td>\n",
       "      <td>-1.029503</td>\n",
       "      <td>-0.689815</td>\n",
       "      <td>-2.039551</td>\n",
       "      <td>5610570552491688320</td>\n",
       "      <td>-0.000244</td>\n",
       "      <td>5.107898</td>\n",
       "      <td>16.212751</td>\n",
       "      <td>0.017556</td>\n",
       "      <td>0.083807</td>\n",
       "      <td>0.529412</td>\n",
       "      <td>34</td>\n",
       "      <td>0.166667</td>\n",
       "      <td>0.049459</td>\n",
       "      <td>0.047738</td>\n",
       "      <td>0.508910</td>\n",
       "      <td>0.012390</td>\n",
       "      <td>0.309458</td>\n",
       "      <td>0.519645</td>\n",
       "      <td>0.397205</td>\n",
       "      <td>0.258203</td>\n",
       "      <td>-0.962335</td>\n",
       "      <td>0.147949</td>\n",
       "      <td>-0.183573</td>\n",
       "      <td>0.284637</td>\n",
       "    </tr>\n",
       "    <tr>\n",
       "      <th>2</th>\n",
       "      <td>0.170099</td>\n",
       "      <td>0.875986</td>\n",
       "      <td>4.0</td>\n",
       "      <td>MIRA_SR</td>\n",
       "      <td>0.030303</td>\n",
       "      <td>137.020266</td>\n",
       "      <td>0.033964</td>\n",
       "      <td>0.208724</td>\n",
       "      <td>0.378623</td>\n",
       "      <td>0.501416</td>\n",
       "      <td>0.869956</td>\n",
       "      <td>0.125793</td>\n",
       "      <td>0.040363</td>\n",
       "      <td>0.024076</td>\n",
       "      <td>0.068313</td>\n",
       "      <td>0.0</td>\n",
       "      <td>-0.341128</td>\n",
       "      <td>1.739659</td>\n",
       "      <td>0.241005</td>\n",
       "      <td>0.067633</td>\n",
       "      <td>0.024955</td>\n",
       "      <td>0.018870</td>\n",
       "      <td>0.017202</td>\n",
       "      <td>0.0</td>\n",
       "      <td>-0.455855</td>\n",
       "      <td>1.108598</td>\n",
       "      <td>2.477876</td>\n",
       "      <td>0.032517</td>\n",
       "      <td>0.011706</td>\n",
       "      <td>0.011973</td>\n",
       "      <td>0.003871</td>\n",
       "      <td>0.0</td>\n",
       "      <td>-1.091787</td>\n",
       "      <td>-0.945552</td>\n",
       "      <td>1.129752</td>\n",
       "      <td>5610983311725261312</td>\n",
       "      <td>0.000291</td>\n",
       "      <td>0.207083</td>\n",
       "      <td>12.744269</td>\n",
       "      <td>0.006985</td>\n",
       "      <td>0.057901</td>\n",
       "      <td>0.314286</td>\n",
       "      <td>35</td>\n",
       "      <td>-0.033333</td>\n",
       "      <td>0.015729</td>\n",
       "      <td>0.025171</td>\n",
       "      <td>8.742769</td>\n",
       "      <td>0.040022</td>\n",
       "      <td>0.342646</td>\n",
       "      <td>0.700200</td>\n",
       "      <td>0.119849</td>\n",
       "      <td>0.368936</td>\n",
       "      <td>0.472161</td>\n",
       "      <td>0.147949</td>\n",
       "      <td>0.064528</td>\n",
       "      <td>0.089020</td>\n",
       "    </tr>\n",
       "    <tr>\n",
       "      <th>3</th>\n",
       "      <td>1.350858</td>\n",
       "      <td>0.999869</td>\n",
       "      <td>4.0</td>\n",
       "      <td>MIRA_SR</td>\n",
       "      <td>0.000000</td>\n",
       "      <td>23.583559</td>\n",
       "      <td>0.259476</td>\n",
       "      <td>0.593270</td>\n",
       "      <td>0.613808</td>\n",
       "      <td>0.817245</td>\n",
       "      <td>0.943033</td>\n",
       "      <td>1.246446</td>\n",
       "      <td>0.553513</td>\n",
       "      <td>0.581996</td>\n",
       "      <td>0.667632</td>\n",
       "      <td>0.0</td>\n",
       "      <td>2.948634</td>\n",
       "      <td>2.045702</td>\n",
       "      <td>2.300415</td>\n",
       "      <td>1.219819</td>\n",
       "      <td>0.466211</td>\n",
       "      <td>0.588149</td>\n",
       "      <td>0.373113</td>\n",
       "      <td>0.0</td>\n",
       "      <td>0.376053</td>\n",
       "      <td>-0.386629</td>\n",
       "      <td>-0.546585</td>\n",
       "      <td>0.672413</td>\n",
       "      <td>0.333181</td>\n",
       "      <td>0.514404</td>\n",
       "      <td>0.176437</td>\n",
       "      <td>0.0</td>\n",
       "      <td>1.241731</td>\n",
       "      <td>-0.354125</td>\n",
       "      <td>-0.614434</td>\n",
       "      <td>5611101307371763328</td>\n",
       "      <td>-0.000392</td>\n",
       "      <td>0.914075</td>\n",
       "      <td>12.594956</td>\n",
       "      <td>0.073562</td>\n",
       "      <td>0.862775</td>\n",
       "      <td>0.176471</td>\n",
       "      <td>34</td>\n",
       "      <td>0.433333</td>\n",
       "      <td>0.113807</td>\n",
       "      <td>0.207843</td>\n",
       "      <td>379.949707</td>\n",
       "      <td>0.000843</td>\n",
       "      <td>0.349687</td>\n",
       "      <td>0.285682</td>\n",
       "      <td>1.867060</td>\n",
       "      <td>0.349687</td>\n",
       "      <td>-0.047072</td>\n",
       "      <td>23.597900</td>\n",
       "      <td>-1.454570</td>\n",
       "      <td>0.926506</td>\n",
       "    </tr>\n",
       "    <tr>\n",
       "      <th>4</th>\n",
       "      <td>0.248472</td>\n",
       "      <td>0.999947</td>\n",
       "      <td>3.0</td>\n",
       "      <td>MIRA_SR</td>\n",
       "      <td>0.000000</td>\n",
       "      <td>125.486491</td>\n",
       "      <td>0.202240</td>\n",
       "      <td>0.448444</td>\n",
       "      <td>0.565120</td>\n",
       "      <td>0.606539</td>\n",
       "      <td>0.840512</td>\n",
       "      <td>0.194339</td>\n",
       "      <td>0.060180</td>\n",
       "      <td>0.026648</td>\n",
       "      <td>0.016748</td>\n",
       "      <td>0.0</td>\n",
       "      <td>1.111026</td>\n",
       "      <td>0.470957</td>\n",
       "      <td>1.011684</td>\n",
       "      <td>0.063499</td>\n",
       "      <td>0.007737</td>\n",
       "      <td>0.009043</td>\n",
       "      <td>0.010401</td>\n",
       "      <td>0.0</td>\n",
       "      <td>-0.131892</td>\n",
       "      <td>-1.094066</td>\n",
       "      <td>0.020685</td>\n",
       "      <td>0.035019</td>\n",
       "      <td>0.010234</td>\n",
       "      <td>0.017416</td>\n",
       "      <td>0.010902</td>\n",
       "      <td>0.0</td>\n",
       "      <td>0.748489</td>\n",
       "      <td>0.421646</td>\n",
       "      <td>-0.621606</td>\n",
       "      <td>4654706786001108096</td>\n",
       "      <td>0.000304</td>\n",
       "      <td>0.270511</td>\n",
       "      <td>15.467074</td>\n",
       "      <td>0.009915</td>\n",
       "      <td>0.081736</td>\n",
       "      <td>0.321429</td>\n",
       "      <td>28</td>\n",
       "      <td>0.166667</td>\n",
       "      <td>0.025682</td>\n",
       "      <td>0.031900</td>\n",
       "      <td>318.427795</td>\n",
       "      <td>0.022169</td>\n",
       "      <td>0.247451</td>\n",
       "      <td>0.578087</td>\n",
       "      <td>0.273482</td>\n",
       "      <td>0.247451</td>\n",
       "      <td>0.594605</td>\n",
       "      <td>0.147949</td>\n",
       "      <td>-0.689124</td>\n",
       "      <td>0.153349</td>\n",
       "    </tr>\n",
       "  </tbody>\n",
       "</table>\n",
       "</div>"
      ],
      "text/plain": [
       "   Amplitude  AndersonDarling  Autocor_length    Class       Con  \\\n",
       "0   1.416432         0.949482             3.0  MIRA_SR  0.000000   \n",
       "1   0.443386         1.000000             1.0     RRAB  0.000000   \n",
       "2   0.170099         0.875986             4.0  MIRA_SR  0.030303   \n",
       "3   1.350858         0.999869             4.0  MIRA_SR  0.000000   \n",
       "4   0.248472         0.999947             3.0  MIRA_SR  0.000000   \n",
       "\n",
       "          Eta_e  FluxPercentileRatioMid20  FluxPercentileRatioMid35  \\\n",
       "0      5.442293                  0.243054                  0.462373   \n",
       "1  12042.752633                  0.162446                  0.231268   \n",
       "2    137.020266                  0.033964                  0.208724   \n",
       "3     23.583559                  0.259476                  0.593270   \n",
       "4    125.486491                  0.202240                  0.448444   \n",
       "\n",
       "   FluxPercentileRatioMid50  FluxPercentileRatioMid65  \\\n",
       "0                  0.653511                  0.761790   \n",
       "1                  0.517775                  0.720122   \n",
       "2                  0.378623                  0.501416   \n",
       "3                  0.613808                  0.817245   \n",
       "4                  0.565120                  0.606539   \n",
       "\n",
       "   FluxPercentileRatioMid80  Freq1_harmonics_amplitude_0  \\\n",
       "0                  0.924793                     1.328054   \n",
       "1                  0.836798                     0.334641   \n",
       "2                  0.869956                     0.125793   \n",
       "3                  0.943033                     1.246446   \n",
       "4                  0.840512                     0.194339   \n",
       "\n",
       "   Freq1_harmonics_amplitude_1  Freq1_harmonics_amplitude_2  \\\n",
       "0                     0.227566                     0.127800   \n",
       "1                     0.191432                     0.083991   \n",
       "2                     0.040363                     0.024076   \n",
       "3                     0.553513                     0.581996   \n",
       "4                     0.060180                     0.026648   \n",
       "\n",
       "   Freq1_harmonics_amplitude_3  Freq1_harmonics_rel_phase_0  \\\n",
       "0                     0.149937                          0.0   \n",
       "1                     0.102430                          0.0   \n",
       "2                     0.068313                          0.0   \n",
       "3                     0.667632                          0.0   \n",
       "4                     0.016748                          0.0   \n",
       "\n",
       "   Freq1_harmonics_rel_phase_1  Freq1_harmonics_rel_phase_2  \\\n",
       "0                    -0.671567                    -0.500114   \n",
       "1                    -2.404705                    -2.441595   \n",
       "2                    -0.341128                     1.739659   \n",
       "3                     2.948634                     2.045702   \n",
       "4                     1.111026                     0.470957   \n",
       "\n",
       "   Freq1_harmonics_rel_phase_3  Freq2_harmonics_amplitude_0  \\\n",
       "0                    -0.461471                     0.209716   \n",
       "1                    -1.849793                     0.100176   \n",
       "2                     0.241005                     0.067633   \n",
       "3                     2.300415                     1.219819   \n",
       "4                     1.011684                     0.063499   \n",
       "\n",
       "   Freq2_harmonics_amplitude_1  Freq2_harmonics_amplitude_2  \\\n",
       "0                     0.155465                     0.058840   \n",
       "1                     0.009931                     0.039059   \n",
       "2                     0.024955                     0.018870   \n",
       "3                     0.466211                     0.588149   \n",
       "4                     0.007737                     0.009043   \n",
       "\n",
       "   Freq2_harmonics_amplitude_3  Freq2_harmonics_rel_phase_0  \\\n",
       "0                     0.069106                          0.0   \n",
       "1                     0.008672                          0.0   \n",
       "2                     0.017202                          0.0   \n",
       "3                     0.373113                          0.0   \n",
       "4                     0.010401                          0.0   \n",
       "\n",
       "   Freq2_harmonics_rel_phase_1  Freq2_harmonics_rel_phase_2  \\\n",
       "0                     1.670704                     0.463136   \n",
       "1                     0.315867                    -0.238308   \n",
       "2                    -0.455855                     1.108598   \n",
       "3                     0.376053                    -0.386629   \n",
       "4                    -0.131892                    -1.094066   \n",
       "\n",
       "   Freq2_harmonics_rel_phase_3  Freq3_harmonics_amplitude_0  \\\n",
       "0                    -0.527479                     0.162085   \n",
       "1                    -1.779410                     0.073547   \n",
       "2                     2.477876                     0.032517   \n",
       "3                    -0.546585                     0.672413   \n",
       "4                     0.020685                     0.035019   \n",
       "\n",
       "   Freq3_harmonics_amplitude_1  Freq3_harmonics_amplitude_2  \\\n",
       "0                     0.070223                     0.054550   \n",
       "1                     0.038331                     0.048823   \n",
       "2                     0.011706                     0.011973   \n",
       "3                     0.333181                     0.514404   \n",
       "4                     0.010234                     0.017416   \n",
       "\n",
       "   Freq3_harmonics_amplitude_3  Freq3_harmonics_rel_phase_0  \\\n",
       "0                     0.114369                          0.0   \n",
       "1                     0.066235                          0.0   \n",
       "2                     0.003871                          0.0   \n",
       "3                     0.176437                          0.0   \n",
       "4                     0.010902                          0.0   \n",
       "\n",
       "   Freq3_harmonics_rel_phase_1  Freq3_harmonics_rel_phase_2  \\\n",
       "0                    -1.198392                    -0.231313   \n",
       "1                    -1.029503                    -0.689815   \n",
       "2                    -1.091787                    -0.945552   \n",
       "3                     1.241731                    -0.354125   \n",
       "4                     0.748489                     0.421646   \n",
       "\n",
       "   Freq3_harmonics_rel_phase_3                   ID  LinearTrend  MaxSlope  \\\n",
       "0                     0.531941  2128919424960482176    -0.002348  0.292530   \n",
       "1                    -2.039551  5610570552491688320    -0.000244  5.107898   \n",
       "2                     1.129752  5610983311725261312     0.000291  0.207083   \n",
       "3                    -0.614434  5611101307371763328    -0.000392  0.914075   \n",
       "4                    -0.621606  4654706786001108096     0.000304  0.270511   \n",
       "\n",
       "        Mean  Meanvariance  MedianAbsDev  MedianBRP   N  PairSlopeTrend  \\\n",
       "0  12.293055      0.075789      0.893634   0.160000  25        0.000000   \n",
       "1  16.212751      0.017556      0.083807   0.529412  34        0.166667   \n",
       "2  12.744269      0.006985      0.057901   0.314286  35       -0.033333   \n",
       "3  12.594956      0.073562      0.862775   0.176471  34        0.433333   \n",
       "4  15.467074      0.009915      0.081736   0.321429  28        0.166667   \n",
       "\n",
       "   PercentAmplitude  PercentDifferenceFluxPercentile    PeriodLS  Period_fit  \\\n",
       "0          0.126656                         0.216018  268.331543    0.025528   \n",
       "1          0.049459                         0.047738    0.508910    0.012390   \n",
       "2          0.015729                         0.025171    8.742769    0.040022   \n",
       "3          0.113807                         0.207843  379.949707    0.000843   \n",
       "4          0.025682                         0.031900  318.427795    0.022169   \n",
       "\n",
       "     Psi_CS   Psi_eta       Q31       Rcs      Skew  SlottedA_length  \\\n",
       "0  0.304804  0.310355  1.784879  0.304804  0.011895        19.899170   \n",
       "1  0.309458  0.519645  0.397205  0.258203 -0.962335         0.147949   \n",
       "2  0.342646  0.700200  0.119849  0.368936  0.472161         0.147949   \n",
       "3  0.349687  0.285682  1.867060  0.349687 -0.047072        23.597900   \n",
       "4  0.247451  0.578087  0.273482  0.247451  0.594605         0.147949   \n",
       "\n",
       "   SmallKurtosis       Std  \n",
       "0      -1.266215  0.931676  \n",
       "1      -0.183573  0.284637  \n",
       "2       0.064528  0.089020  \n",
       "3      -1.454570  0.926506  \n",
       "4      -0.689124  0.153349  "
      ]
     },
     "execution_count": 4,
     "metadata": {},
     "output_type": "execute_result"
    }
   ],
   "source": [
    "dataset = pd.read_csv('FATS_GAIA.dat')\n",
    "dataset.head()"
   ]
  },
  {
   "cell_type": "code",
   "execution_count": 5,
   "metadata": {},
   "outputs": [
    {
     "data": {
      "text/plain": [
       "Index(['Amplitude', 'AndersonDarling', 'Autocor_length', 'Class', 'Con',\n",
       "       'Eta_e', 'FluxPercentileRatioMid20', 'FluxPercentileRatioMid35',\n",
       "       'FluxPercentileRatioMid50', 'FluxPercentileRatioMid65',\n",
       "       'FluxPercentileRatioMid80', 'Freq1_harmonics_amplitude_0',\n",
       "       'Freq1_harmonics_amplitude_1', 'Freq1_harmonics_amplitude_2',\n",
       "       'Freq1_harmonics_amplitude_3', 'Freq1_harmonics_rel_phase_0',\n",
       "       'Freq1_harmonics_rel_phase_1', 'Freq1_harmonics_rel_phase_2',\n",
       "       'Freq1_harmonics_rel_phase_3', 'Freq2_harmonics_amplitude_0',\n",
       "       'Freq2_harmonics_amplitude_1', 'Freq2_harmonics_amplitude_2',\n",
       "       'Freq2_harmonics_amplitude_3', 'Freq2_harmonics_rel_phase_0',\n",
       "       'Freq2_harmonics_rel_phase_1', 'Freq2_harmonics_rel_phase_2',\n",
       "       'Freq2_harmonics_rel_phase_3', 'Freq3_harmonics_amplitude_0',\n",
       "       'Freq3_harmonics_amplitude_1', 'Freq3_harmonics_amplitude_2',\n",
       "       'Freq3_harmonics_amplitude_3', 'Freq3_harmonics_rel_phase_0',\n",
       "       'Freq3_harmonics_rel_phase_1', 'Freq3_harmonics_rel_phase_2',\n",
       "       'Freq3_harmonics_rel_phase_3', 'ID', 'LinearTrend', 'MaxSlope', 'Mean',\n",
       "       'Meanvariance', 'MedianAbsDev', 'MedianBRP', 'N', 'PairSlopeTrend',\n",
       "       'PercentAmplitude', 'PercentDifferenceFluxPercentile', 'PeriodLS',\n",
       "       'Period_fit', 'Psi_CS', 'Psi_eta', 'Q31', 'Rcs', 'Skew',\n",
       "       'SlottedA_length', 'SmallKurtosis', 'Std'],\n",
       "      dtype='object')"
      ]
     },
     "execution_count": 5,
     "metadata": {},
     "output_type": "execute_result"
    }
   ],
   "source": [
    "dataset.columns"
   ]
  },
  {
   "cell_type": "code",
   "execution_count": 8,
   "metadata": {},
   "outputs": [
    {
     "data": {
      "text/plain": [
       "(200669, 56)"
      ]
     },
     "execution_count": 8,
     "metadata": {},
     "output_type": "execute_result"
    }
   ],
   "source": [
    "dataset.shape"
   ]
  },
  {
   "cell_type": "markdown",
   "metadata": {},
   "source": [
    "Vemos que nuestro dataset astronomico tiene 56 columnas, 200.669 filas y que tiene datos continuos."
   ]
  },
  {
   "cell_type": "code",
   "execution_count": 22,
   "metadata": {},
   "outputs": [],
   "source": [
    "from sklearn.model_selection import train_test_split  \n",
    "from sklearn.tree import DecisionTreeClassifier\n",
    "from sklearn.metrics import accuracy_score\n",
    "from sklearn import tree"
   ]
  },
  {
   "cell_type": "code",
   "execution_count": 23,
   "metadata": {
    "collapsed": true
   },
   "outputs": [],
   "source": [
    "X = dataset.drop('Class', axis=1)  \n",
    "y = dataset['Class']  \n",
    "X_train, X_test, y_train, y_test = train_test_split(X, y, test_size=0.2, random_state=0) "
   ]
  },
  {
   "cell_type": "code",
   "execution_count": 24,
   "metadata": {},
   "outputs": [
    {
     "data": {
      "text/plain": [
       "DecisionTreeClassifier(class_weight=None, criterion='gini', max_depth=3,\n",
       "            max_features=None, max_leaf_nodes=None,\n",
       "            min_impurity_split=1e-07, min_samples_leaf=5,\n",
       "            min_samples_split=2, min_weight_fraction_leaf=0.0,\n",
       "            presort=False, random_state=100, splitter='best')"
      ]
     },
     "execution_count": 24,
     "metadata": {},
     "output_type": "execute_result"
    }
   ],
   "source": [
    "clf_gini = DecisionTreeClassifier(criterion = \"gini\", random_state = 100, max_depth=3, min_samples_leaf=5)\n",
    "clf_gini.fit(X_train, y_train)"
   ]
  },
  {
   "cell_type": "code",
   "execution_count": null,
   "metadata": {},
   "outputs": [],
   "source": []
  },
  {
   "cell_type": "code",
   "execution_count": 26,
   "metadata": {},
   "outputs": [
    {
     "data": {
      "text/plain": [
       "DecisionTreeClassifier(class_weight=None, criterion='entropy', max_depth=3,\n",
       "            max_features=None, max_leaf_nodes=None,\n",
       "            min_impurity_split=1e-07, min_samples_leaf=5,\n",
       "            min_samples_split=2, min_weight_fraction_leaf=0.0,\n",
       "            presort=False, random_state=100, splitter='best')"
      ]
     },
     "execution_count": 26,
     "metadata": {},
     "output_type": "execute_result"
    }
   ],
   "source": [
    "clf_entropy = DecisionTreeClassifier(criterion = \"entropy\", random_state = 100, max_depth=3, min_samples_leaf=5)\n",
    "clf_entropy.fit(X_train, y_train)"
   ]
  },
  {
   "cell_type": "code",
   "execution_count": 27,
   "metadata": {},
   "outputs": [
    {
     "data": {
      "text/plain": [
       "array(['MIRA_SR', 'MIRA_SR', 'MIRA_SR', ..., 'RRC', 'MIRA_SR', 'MIRA_SR'], dtype=object)"
      ]
     },
     "execution_count": 27,
     "metadata": {},
     "output_type": "execute_result"
    }
   ],
   "source": [
    "y_pred = clf_gini.predict(X_test)\n",
    "y_pred"
   ]
  },
  {
   "cell_type": "code",
   "execution_count": 28,
   "metadata": {},
   "outputs": [
    {
     "data": {
      "text/plain": [
       "array(['MIRA_SR', 'MIRA_SR', 'MIRA_SR', ..., 'RRC', 'MIRA_SR', 'MIRA_SR'], dtype=object)"
      ]
     },
     "execution_count": 28,
     "metadata": {},
     "output_type": "execute_result"
    }
   ],
   "source": [
    "y_pred_en = clf_entropy.predict(X_test)\n",
    "y_pred_en"
   ]
  },
  {
   "cell_type": "code",
   "execution_count": 29,
   "metadata": {},
   "outputs": [
    {
     "name": "stdout",
     "output_type": "stream",
     "text": [
      "Accuracy is  90.215278816\n"
     ]
    }
   ],
   "source": [
    "print(\"Accuracy is \", accuracy_score(y_test,y_pred)*100)"
   ]
  },
  {
   "cell_type": "code",
   "execution_count": null,
   "metadata": {},
   "outputs": [],
   "source": []
  },
  {
   "cell_type": "code",
   "execution_count": null,
   "metadata": {
    "collapsed": true
   },
   "outputs": [],
   "source": []
  },
  {
   "cell_type": "code",
   "execution_count": 43,
   "metadata": {
    "collapsed": true
   },
   "outputs": [],
   "source": []
  },
  {
   "cell_type": "code",
   "execution_count": null,
   "metadata": {},
   "outputs": [],
   "source": []
  },
  {
   "cell_type": "code",
   "execution_count": null,
   "metadata": {
    "collapsed": true
   },
   "outputs": [],
   "source": []
  },
  {
   "cell_type": "code",
   "execution_count": null,
   "metadata": {
    "collapsed": true
   },
   "outputs": [],
   "source": []
  },
  {
   "cell_type": "code",
   "execution_count": null,
   "metadata": {
    "collapsed": true
   },
   "outputs": [],
   "source": []
  },
  {
   "cell_type": "code",
   "execution_count": null,
   "metadata": {
    "collapsed": true
   },
   "outputs": [],
   "source": []
  },
  {
   "cell_type": "code",
   "execution_count": null,
   "metadata": {
    "collapsed": true
   },
   "outputs": [],
   "source": []
  },
  {
   "cell_type": "code",
   "execution_count": null,
   "metadata": {
    "collapsed": true
   },
   "outputs": [],
   "source": [
    "def fit(data, target, depth=None):\n",
    "    for dato in data:\n",
    "        print(\"Hola\")"
   ]
  },
  {
   "cell_type": "code",
   "execution_count": 9,
   "metadata": {
    "collapsed": true
   },
   "outputs": [],
   "source": [
    "def predict(data):\n",
    "    return prediccion"
   ]
  },
  {
   "cell_type": "code",
   "execution_count": 10,
   "metadata": {
    "collapsed": true
   },
   "outputs": [],
   "source": []
  },
  {
   "cell_type": "code",
   "execution_count": null,
   "metadata": {
    "collapsed": true
   },
   "outputs": [],
   "source": []
  },
  {
   "cell_type": "code",
   "execution_count": null,
   "metadata": {
    "collapsed": true
   },
   "outputs": [],
   "source": []
  },
  {
   "cell_type": "code",
   "execution_count": null,
   "metadata": {
    "collapsed": true
   },
   "outputs": [],
   "source": []
  },
  {
   "cell_type": "code",
   "execution_count": null,
   "metadata": {
    "collapsed": true
   },
   "outputs": [],
   "source": []
  },
  {
   "cell_type": "code",
   "execution_count": null,
   "metadata": {
    "collapsed": true
   },
   "outputs": [],
   "source": []
  },
  {
   "cell_type": "code",
   "execution_count": null,
   "metadata": {
    "collapsed": true
   },
   "outputs": [],
   "source": []
  },
  {
   "cell_type": "code",
   "execution_count": null,
   "metadata": {
    "collapsed": true
   },
   "outputs": [],
   "source": []
  },
  {
   "cell_type": "code",
   "execution_count": null,
   "metadata": {
    "collapsed": true
   },
   "outputs": [],
   "source": []
  },
  {
   "cell_type": "markdown",
   "metadata": {},
   "source": []
  },
  {
   "cell_type": "markdown",
   "metadata": {},
   "source": [
    "Instrucciones: \n",
    "\n",
    ". Preprocesar la base de datos. Esta consiste en una base de datos astron ́omica FATS GAIA.csv, que se encuentra adjunta al enunciado. Contiene features de series de tiempo astron ́omicas del survey GAIA 1. El target (variable a predecir) corresponde a la columna PeriodLS y data (variables predictoras) a todas las otras columnas. Deben dividir esta base de datos en un set train (%80) y otro test (%20).\n",
    "\n",
    "\n",
    "2. Implementar el algoritmo de  ́arboles de regresi ́on. En este punto el c ́odigo debe contar con funciones fit y predict:\n",
    "• fit: Debe aplicar el algoritmo a la base de datos. Debe recibir data, target y opcionalmente permitir definir la profundidad m ́axima max depth (para evitar overfitting).\n",
    "Considere que las variables con que su algoritmo deber ́a trabajar son continuas, esto implica implementar una forma autom ́atica de encontrar el punto de split de cada nodo.\n",
    "• predict: Debe recibir data y retornar la predicci ́on. Para la implementaci ́on solo podr ́a utilizar las librer ́ıas Numpy y Pandas.\n",
    "\n",
    "\n",
    "\n",
    "3. Aplicar el algoritmo a la base de datos de prueba. Entrene con data train y haga predicciones sobre data test. Debe entregar una medida de qu ́e tan buena es su predicci ́on sobre data test.\n",
    "\n",
    "\n",
    "4. Visualizar un arbol. En este paso puede usar matplotlib o graphviz.\n",
    "\n",
    "\n",
    "5. Explicar y analizar los resultados obtenidos (puede apoyar su explicaci ́on en la visualizaci ́on), comentar los experimentos realizados ¿C ́omo espera que cambie la predicci ́on al setear distintos niveles de profundidad del  ́arbol?"
   ]
  },
  {
   "cell_type": "code",
   "execution_count": null,
   "metadata": {
    "collapsed": true
   },
   "outputs": [],
   "source": []
  }
 ],
 "metadata": {
  "kernelspec": {
   "display_name": "Python 3",
   "language": "python",
   "name": "python3"
  },
  "language_info": {
   "codemirror_mode": {
    "name": "ipython",
    "version": 3
   },
   "file_extension": ".py",
   "mimetype": "text/x-python",
   "name": "python",
   "nbconvert_exporter": "python",
   "pygments_lexer": "ipython3",
   "version": "3.5.3"
  }
 },
 "nbformat": 4,
 "nbformat_minor": 2
}
